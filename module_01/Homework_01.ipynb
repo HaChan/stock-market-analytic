{
 "cells": [
  {
   "cell_type": "code",
   "execution_count": 1,
   "id": "b4e950f5-2ec1-4cb1-91b7-a83dfe995913",
   "metadata": {},
   "outputs": [
    {
     "name": "stdout",
     "output_type": "stream",
     "text": [
      "Requirement already satisfied: pandas in ./my-venv/lib/python3.10/site-packages (2.2.2)\n",
      "Requirement already satisfied: python-dateutil>=2.8.2 in ./my-venv/lib/python3.10/site-packages (from pandas) (2.9.0.post0)\n",
      "Requirement already satisfied: pytz>=2020.1 in ./my-venv/lib/python3.10/site-packages (from pandas) (2024.1)\n",
      "Requirement already satisfied: numpy>=1.22.4 in ./my-venv/lib/python3.10/site-packages (from pandas) (1.26.4)\n",
      "Requirement already satisfied: tzdata>=2022.7 in ./my-venv/lib/python3.10/site-packages (from pandas) (2024.1)\n",
      "Requirement already satisfied: six>=1.5 in ./my-venv/lib/python3.10/site-packages (from python-dateutil>=2.8.2->pandas) (1.16.0)\n",
      "\u001b[33mWARNING: You are using pip version 22.0.4; however, version 24.0 is available.\n",
      "You should consider upgrading via the '/home/hachan/stock-market-analytic/my-venv/bin/python -m pip install --upgrade pip' command.\u001b[0m\u001b[33m\n",
      "\u001b[0mRequirement already satisfied: yfinance in ./my-venv/lib/python3.10/site-packages (0.2.38)\n",
      "Requirement already satisfied: appdirs>=1.4.4 in ./my-venv/lib/python3.10/site-packages (from yfinance) (1.4.4)\n",
      "Requirement already satisfied: pytz>=2022.5 in ./my-venv/lib/python3.10/site-packages (from yfinance) (2024.1)\n",
      "Requirement already satisfied: numpy>=1.16.5 in ./my-venv/lib/python3.10/site-packages (from yfinance) (1.26.4)\n",
      "Requirement already satisfied: frozendict>=2.3.4 in ./my-venv/lib/python3.10/site-packages (from yfinance) (2.4.2)\n",
      "Requirement already satisfied: html5lib>=1.1 in ./my-venv/lib/python3.10/site-packages (from yfinance) (1.1)\n",
      "Requirement already satisfied: pandas>=1.3.0 in ./my-venv/lib/python3.10/site-packages (from yfinance) (2.2.2)\n",
      "Requirement already satisfied: beautifulsoup4>=4.11.1 in ./my-venv/lib/python3.10/site-packages (from yfinance) (4.12.3)\n",
      "Requirement already satisfied: requests>=2.31 in ./my-venv/lib/python3.10/site-packages (from yfinance) (2.31.0)\n",
      "Requirement already satisfied: multitasking>=0.0.7 in ./my-venv/lib/python3.10/site-packages (from yfinance) (0.0.11)\n",
      "Requirement already satisfied: lxml>=4.9.1 in ./my-venv/lib/python3.10/site-packages (from yfinance) (5.2.1)\n",
      "Requirement already satisfied: peewee>=3.16.2 in ./my-venv/lib/python3.10/site-packages (from yfinance) (3.17.3)\n",
      "Requirement already satisfied: soupsieve>1.2 in ./my-venv/lib/python3.10/site-packages (from beautifulsoup4>=4.11.1->yfinance) (2.5)\n",
      "Requirement already satisfied: webencodings in ./my-venv/lib/python3.10/site-packages (from html5lib>=1.1->yfinance) (0.5.1)\n",
      "Requirement already satisfied: six>=1.9 in ./my-venv/lib/python3.10/site-packages (from html5lib>=1.1->yfinance) (1.16.0)\n",
      "Requirement already satisfied: tzdata>=2022.7 in ./my-venv/lib/python3.10/site-packages (from pandas>=1.3.0->yfinance) (2024.1)\n",
      "Requirement already satisfied: python-dateutil>=2.8.2 in ./my-venv/lib/python3.10/site-packages (from pandas>=1.3.0->yfinance) (2.9.0.post0)\n",
      "Requirement already satisfied: idna<4,>=2.5 in ./my-venv/lib/python3.10/site-packages (from requests>=2.31->yfinance) (3.7)\n",
      "Requirement already satisfied: urllib3<3,>=1.21.1 in ./my-venv/lib/python3.10/site-packages (from requests>=2.31->yfinance) (2.2.1)\n",
      "Requirement already satisfied: charset-normalizer<4,>=2 in ./my-venv/lib/python3.10/site-packages (from requests>=2.31->yfinance) (3.3.2)\n",
      "Requirement already satisfied: certifi>=2017.4.17 in ./my-venv/lib/python3.10/site-packages (from requests>=2.31->yfinance) (2024.2.2)\n",
      "\u001b[33mWARNING: You are using pip version 22.0.4; however, version 24.0 is available.\n",
      "You should consider upgrading via the '/home/hachan/stock-market-analytic/my-venv/bin/python -m pip install --upgrade pip' command.\u001b[0m\u001b[33m\n",
      "\u001b[0m"
     ]
    }
   ],
   "source": [
    "!pip install pandas\n",
    "!pip install yfinance\n",
    "\n",
    "import pandas as pd\n",
    "import yfinance as yf"
   ]
  },
  {
   "cell_type": "code",
   "execution_count": 6,
   "id": "c350abbc-8f72-444a-89ed-2d5ede8518c1",
   "metadata": {},
   "outputs": [
    {
     "name": "stdout",
     "output_type": "stream",
     "text": [
      "2.5\n"
     ]
    }
   ],
   "source": [
    "# Question 1\n",
    "# Average growth of GDP in 2023\n",
    "\n",
    "df = pd.read_csv(\"dataset/gdpc1.csv\")\n",
    "previous_df = df.shift(periods=4)\n",
    "\n",
    "result_df = df.join(previous_df, rsuffix=\"_prev\")\n",
    "result_df.columns = [column.lower() for column in result_df.columns]\n",
    "result_df['date'] = pd.to_datetime(result_df['date'])\n",
    "result_df[\"growth_rate\"] = (result_df[\"gdpc1\"] / result_df[\"gdpc1_prev\"] - 1) * 100\n",
    "\n",
    "print(round(result_df[result_df['date'].dt.year == 2023]['growth_rate'].mean(), 1))\n"
   ]
  },
  {
   "cell_type": "code",
   "execution_count": 5,
   "id": "354ae7b2-4c4a-4bbf-943c-c10315c148fb",
   "metadata": {},
   "outputs": [
    {
     "name": "stdout",
     "output_type": "stream",
     "text": [
      "-1.1\n"
     ]
    }
   ],
   "source": [
    "# Question 2\n",
    "# Inverse Treasury Yield\n",
    "\n",
    "dgs10 = pd.read_csv(\"dataset/dgs10.csv\")\n",
    "dgs2 = pd.read_csv(\"dataset/dgs2.csv\")\n",
    "\n",
    "dgs10 = dgs10[dgs10['DATE'].notnull() == True].set_index('DATE')\n",
    "dgs2 = dgs2[dgs2['DATE'].notnull() == True].set_index('DATE')\n",
    "dgs_df = dgs10.join(dgs2, rsuffix=\"_2\")\n",
    "\n",
    "dgs_df['DGS10'] = pd.to_numeric(dgs_df['DGS10'], errors='coerce')\n",
    "dgs_df['DGS2'] = pd.to_numeric(dgs_df['DGS2'], errors='coerce')\n",
    "dgs_df[\"diff\"] = dgs_df['DGS10'] - dgs_df['DGS2']\n",
    "\n",
    "print(round(dgs_df[~dgs_df['diff'].isna()]['diff'].min(), 1))"
   ]
  },
  {
   "cell_type": "code",
   "execution_count": 10,
   "id": "ad41ed70-923c-4e5c-a91a-24b13392927e",
   "metadata": {},
   "outputs": [
    {
     "name": "stderr",
     "output_type": "stream",
     "text": [
      "[*********************100%%**********************]  1 of 1 completed\n",
      "[*********************100%%**********************]  1 of 1 completed"
     ]
    },
    {
     "name": "stdout",
     "output_type": "stream",
     "text": [
      "81\n"
     ]
    },
    {
     "name": "stderr",
     "output_type": "stream",
     "text": [
      "\n"
     ]
    }
   ],
   "source": [
    "# Question 3\n",
    "# Compare S&P 500 and IPC Mexico indexes by the 5 year growth and write down the largest value as an answer (%)\n",
    "\n",
    "\n",
    "start_date = \"2019-04-09\"\n",
    "end_date = \"2024-04-09\"\n",
    "\n",
    "sp500 = yf.download(\"^GSPC\", start=start_date, end=end_date)[\"Adj Close\"]\n",
    "ipc_mexico = yf.download(\"^MXX\", start=start_date, end=end_date)[\"Adj Close\"]\n",
    "\n",
    "# Calculate 5-year growth percentages\n",
    "sp500_growth = ((sp500.iloc[-1] / sp500.iloc[0]) - 1) * 100\n",
    "ipc_mexico_growth = ((ipc_mexico.iloc[-1] / ipc_mexico.iloc[0]) - 1) * 100\n",
    "\n",
    "# Identify the largest growth\n",
    "largest_growth = max(sp500_growth, ipc_mexico_growth)\n",
    "print(round(largest_growth))"
   ]
  },
  {
   "cell_type": "code",
   "execution_count": 16,
   "id": "709317ad-5631-4b4b-80c1-0803fa9f7ade",
   "metadata": {},
   "outputs": [
    {
     "name": "stderr",
     "output_type": "stream",
     "text": [
      "[*********************100%%**********************]  1 of 1 completed\n",
      "[*********************100%%**********************]  1 of 1 completed\n",
      "[*********************100%%**********************]  1 of 1 completed\n",
      "[*********************100%%**********************]  1 of 1 completed\n",
      "[*********************100%%**********************]  1 of 1 completed\n",
      "[*********************100%%**********************]  1 of 1 completed"
     ]
    },
    {
     "name": "stdout",
     "output_type": "stream",
     "text": [
      "0.42\n"
     ]
    },
    {
     "name": "stderr",
     "output_type": "stream",
     "text": [
      "\n"
     ]
    }
   ],
   "source": [
    "# Question 4\n",
    "# 52-weeks range ratio (2023) for the selected stocks\n",
    "# Find the largest range ratio [=(max-min)/max] of Adj.Close prices in 2023\n",
    "\n",
    "start_date = \"2023-01-01\"\n",
    "end_date = \"2023-12-31\"\n",
    "sar = yf.download(\"2222.SR\", start=start_date, end=end_date)[\"Adj Close\"]\n",
    "brkb = yf.download(\"BRK-B\", start=start_date, end=end_date)[\"Adj Close\"]\n",
    "aapl = yf.download(\"AAPL\", start=start_date, end=end_date)[\"Adj Close\"]\n",
    "msft = yf.download(\"MSFT\", start=start_date, end=end_date)[\"Adj Close\"]\n",
    "goog = yf.download(\"GOOG\", start=start_date, end=end_date)[\"Adj Close\"]\n",
    "jpm = yf.download(\"JPM\", start=start_date, end=end_date)[\"Adj Close\"]\n",
    "\n",
    "sar_ratio = (sar.max() - sar.min()) / sar.max()\n",
    "brkb_ratio = (brkb.max() - brkb.min()) / brkb.max()\n",
    "aapl_ratio = (aapl.max() - aapl.min()) / aapl.max()\n",
    "msft_ratio = (msft.max() - msft.min()) / msft.max()\n",
    "goog_ratio = (goog.max() - goog.min()) / goog.max()\n",
    "jpm_ratio = (jpm.max() - jpm.min()) / jpm.max()\n",
    "print(round(max([sar_ratio, brkb_ratio, aapl_ratio, msft_ratio, goog_ratio, jpm_ratio]), 2))\n"
   ]
  },
  {
   "cell_type": "code",
   "execution_count": 18,
   "id": "20a7739a-5ed5-4666-9e7d-71d64526e1ce",
   "metadata": {},
   "outputs": [
    {
     "name": "stdout",
     "output_type": "stream",
     "text": [
      "2.8\n"
     ]
    }
   ],
   "source": [
    "# Question 5. [Stocks] Dividend Yield\n",
    "# Find the largest dividend yield for the same set of stocks\n",
    "\n",
    "sar_div = yf.Ticker(\"2222.SR\").dividends\n",
    "brkb_div = yf.Ticker(\"BRK-B\").dividends\n",
    "aapl_div = yf.Ticker(\"AAPL\").dividends\n",
    "msft_div = yf.Ticker(\"MSFT\").dividends\n",
    "goog_div = yf.Ticker(\"GOOG\").dividends\n",
    "jpm_div = yf.Ticker(\"JPM\").dividends\n",
    "\n",
    "sar_y = (sar_div[sar_div.index.year == 2023].sum() / sar.iloc[-1]) * 100\n",
    "brkb_y = (brkb_div[brkb_div.index.year == 2023].sum() / brkb.iloc[-1]) * 100\n",
    "aapl_y = (aapl_div[aapl_div.index.year == 2023].sum() / aapl.iloc[-1]) * 100\n",
    "msft_y = (msft_div[msft_div.index.year == 2023].sum() / msft.iloc[-1]) * 100\n",
    "goog_y = (goog_div[goog_div.index.year == 2023].sum() / goog.iloc[-1]) * 100\n",
    "jpm_y = (jpm_div[jpm_div.index.year == 2023].sum() / jpm.iloc[-1]) * 100\n",
    "\n",
    "print(round(max([sar_y, brkb_y, aapl_y, msft_y, goog_y, jpm_y]), 1))\n",
    "\n"
   ]
  },
  {
   "cell_type": "code",
   "execution_count": null,
   "id": "378c7c2c-3803-46c9-a3ca-14733c492520",
   "metadata": {},
   "outputs": [],
   "source": []
  }
 ],
 "metadata": {
  "kernelspec": {
   "display_name": "Python 3 (ipykernel)",
   "language": "python",
   "name": "python3"
  },
  "language_info": {
   "codemirror_mode": {
    "name": "ipython",
    "version": 3
   },
   "file_extension": ".py",
   "mimetype": "text/x-python",
   "name": "python",
   "nbconvert_exporter": "python",
   "pygments_lexer": "ipython3",
   "version": "3.10.4"
  }
 },
 "nbformat": 4,
 "nbformat_minor": 5
}
